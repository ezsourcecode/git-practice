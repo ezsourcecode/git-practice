{
  "nbformat": 4,
  "nbformat_minor": 0,
  "metadata": {
    "colab": {
      "provenance": [],
      "authorship_tag": "ABX9TyNrZaCarpNCPwwyixwdI8Lo",
      "include_colab_link": true
    },
    "kernelspec": {
      "name": "python3",
      "display_name": "Python 3"
    },
    "language_info": {
      "name": "python"
    }
  },
  "cells": [
    {
      "cell_type": "markdown",
      "metadata": {
        "id": "view-in-github",
        "colab_type": "text"
      },
      "source": [
        "<a href=\"https://colab.research.google.com/github/ezsourcecode/git-practice/blob/main/kaggle_eda_example.ipynb\" target=\"_parent\"><img src=\"https://colab.research.google.com/assets/colab-badge.svg\" alt=\"Open In Colab\"/></a>"
      ]
    },
    {
      "cell_type": "code",
      "execution_count": null,
      "metadata": {
        "id": "sNo7tpBbUSRm"
      },
      "outputs": [],
      "source": [
        "import pandas as pd"
      ]
    },
    {
      "cell_type": "code",
      "source": [
        "train_events = pd.read_csv(\"train_events.csv\")"
      ],
      "metadata": {
        "id": "cs3aUSjvUTG6"
      },
      "execution_count": null,
      "outputs": []
    },
    {
      "cell_type": "code",
      "source": [
        "train_events"
      ],
      "metadata": {
        "colab": {
          "base_uri": "https://localhost:8080/",
          "height": 424
        },
        "id": "hSlxW3QQU4Yj",
        "outputId": "8e70cd8b-6e1c-4777-8273-07f9493ce967"
      },
      "execution_count": null,
      "outputs": [
        {
          "output_type": "execute_result",
          "data": {
            "text/plain": [
              "          series_id  night   event      step                 timestamp\n",
              "0      038441c925bb      1   onset    4992.0  2018-08-14T22:26:00-0400\n",
              "1      038441c925bb      1  wakeup   10932.0  2018-08-15T06:41:00-0400\n",
              "2      038441c925bb      2   onset   20244.0  2018-08-15T19:37:00-0400\n",
              "3      038441c925bb      2  wakeup   27492.0  2018-08-16T05:41:00-0400\n",
              "4      038441c925bb      3   onset   39996.0  2018-08-16T23:03:00-0400\n",
              "...             ...    ...     ...       ...                       ...\n",
              "14503  fe90110788d2     33  wakeup  560604.0  2017-09-06T04:07:00-0400\n",
              "14504  fe90110788d2     34   onset  574620.0  2017-09-06T23:35:00-0400\n",
              "14505  fe90110788d2     34  wakeup  581604.0  2017-09-07T09:17:00-0400\n",
              "14506  fe90110788d2     35   onset       NaN                       NaN\n",
              "14507  fe90110788d2     35  wakeup       NaN                       NaN\n",
              "\n",
              "[14508 rows x 5 columns]"
            ],
            "text/html": [
              "\n",
              "  <div id=\"df-0763f7d7-0dff-4ff1-bc77-a49fe06137ff\" class=\"colab-df-container\">\n",
              "    <div>\n",
              "<style scoped>\n",
              "    .dataframe tbody tr th:only-of-type {\n",
              "        vertical-align: middle;\n",
              "    }\n",
              "\n",
              "    .dataframe tbody tr th {\n",
              "        vertical-align: top;\n",
              "    }\n",
              "\n",
              "    .dataframe thead th {\n",
              "        text-align: right;\n",
              "    }\n",
              "</style>\n",
              "<table border=\"1\" class=\"dataframe\">\n",
              "  <thead>\n",
              "    <tr style=\"text-align: right;\">\n",
              "      <th></th>\n",
              "      <th>series_id</th>\n",
              "      <th>night</th>\n",
              "      <th>event</th>\n",
              "      <th>step</th>\n",
              "      <th>timestamp</th>\n",
              "    </tr>\n",
              "  </thead>\n",
              "  <tbody>\n",
              "    <tr>\n",
              "      <th>0</th>\n",
              "      <td>038441c925bb</td>\n",
              "      <td>1</td>\n",
              "      <td>onset</td>\n",
              "      <td>4992.0</td>\n",
              "      <td>2018-08-14T22:26:00-0400</td>\n",
              "    </tr>\n",
              "    <tr>\n",
              "      <th>1</th>\n",
              "      <td>038441c925bb</td>\n",
              "      <td>1</td>\n",
              "      <td>wakeup</td>\n",
              "      <td>10932.0</td>\n",
              "      <td>2018-08-15T06:41:00-0400</td>\n",
              "    </tr>\n",
              "    <tr>\n",
              "      <th>2</th>\n",
              "      <td>038441c925bb</td>\n",
              "      <td>2</td>\n",
              "      <td>onset</td>\n",
              "      <td>20244.0</td>\n",
              "      <td>2018-08-15T19:37:00-0400</td>\n",
              "    </tr>\n",
              "    <tr>\n",
              "      <th>3</th>\n",
              "      <td>038441c925bb</td>\n",
              "      <td>2</td>\n",
              "      <td>wakeup</td>\n",
              "      <td>27492.0</td>\n",
              "      <td>2018-08-16T05:41:00-0400</td>\n",
              "    </tr>\n",
              "    <tr>\n",
              "      <th>4</th>\n",
              "      <td>038441c925bb</td>\n",
              "      <td>3</td>\n",
              "      <td>onset</td>\n",
              "      <td>39996.0</td>\n",
              "      <td>2018-08-16T23:03:00-0400</td>\n",
              "    </tr>\n",
              "    <tr>\n",
              "      <th>...</th>\n",
              "      <td>...</td>\n",
              "      <td>...</td>\n",
              "      <td>...</td>\n",
              "      <td>...</td>\n",
              "      <td>...</td>\n",
              "    </tr>\n",
              "    <tr>\n",
              "      <th>14503</th>\n",
              "      <td>fe90110788d2</td>\n",
              "      <td>33</td>\n",
              "      <td>wakeup</td>\n",
              "      <td>560604.0</td>\n",
              "      <td>2017-09-06T04:07:00-0400</td>\n",
              "    </tr>\n",
              "    <tr>\n",
              "      <th>14504</th>\n",
              "      <td>fe90110788d2</td>\n",
              "      <td>34</td>\n",
              "      <td>onset</td>\n",
              "      <td>574620.0</td>\n",
              "      <td>2017-09-06T23:35:00-0400</td>\n",
              "    </tr>\n",
              "    <tr>\n",
              "      <th>14505</th>\n",
              "      <td>fe90110788d2</td>\n",
              "      <td>34</td>\n",
              "      <td>wakeup</td>\n",
              "      <td>581604.0</td>\n",
              "      <td>2017-09-07T09:17:00-0400</td>\n",
              "    </tr>\n",
              "    <tr>\n",
              "      <th>14506</th>\n",
              "      <td>fe90110788d2</td>\n",
              "      <td>35</td>\n",
              "      <td>onset</td>\n",
              "      <td>NaN</td>\n",
              "      <td>NaN</td>\n",
              "    </tr>\n",
              "    <tr>\n",
              "      <th>14507</th>\n",
              "      <td>fe90110788d2</td>\n",
              "      <td>35</td>\n",
              "      <td>wakeup</td>\n",
              "      <td>NaN</td>\n",
              "      <td>NaN</td>\n",
              "    </tr>\n",
              "  </tbody>\n",
              "</table>\n",
              "<p>14508 rows × 5 columns</p>\n",
              "</div>\n",
              "    <div class=\"colab-df-buttons\">\n",
              "\n",
              "  <div class=\"colab-df-container\">\n",
              "    <button class=\"colab-df-convert\" onclick=\"convertToInteractive('df-0763f7d7-0dff-4ff1-bc77-a49fe06137ff')\"\n",
              "            title=\"Convert this dataframe to an interactive table.\"\n",
              "            style=\"display:none;\">\n",
              "\n",
              "  <svg xmlns=\"http://www.w3.org/2000/svg\" height=\"24px\" viewBox=\"0 -960 960 960\">\n",
              "    <path d=\"M120-120v-720h720v720H120Zm60-500h600v-160H180v160Zm220 220h160v-160H400v160Zm0 220h160v-160H400v160ZM180-400h160v-160H180v160Zm440 0h160v-160H620v160ZM180-180h160v-160H180v160Zm440 0h160v-160H620v160Z\"/>\n",
              "  </svg>\n",
              "    </button>\n",
              "\n",
              "  <style>\n",
              "    .colab-df-container {\n",
              "      display:flex;\n",
              "      gap: 12px;\n",
              "    }\n",
              "\n",
              "    .colab-df-convert {\n",
              "      background-color: #E8F0FE;\n",
              "      border: none;\n",
              "      border-radius: 50%;\n",
              "      cursor: pointer;\n",
              "      display: none;\n",
              "      fill: #1967D2;\n",
              "      height: 32px;\n",
              "      padding: 0 0 0 0;\n",
              "      width: 32px;\n",
              "    }\n",
              "\n",
              "    .colab-df-convert:hover {\n",
              "      background-color: #E2EBFA;\n",
              "      box-shadow: 0px 1px 2px rgba(60, 64, 67, 0.3), 0px 1px 3px 1px rgba(60, 64, 67, 0.15);\n",
              "      fill: #174EA6;\n",
              "    }\n",
              "\n",
              "    .colab-df-buttons div {\n",
              "      margin-bottom: 4px;\n",
              "    }\n",
              "\n",
              "    [theme=dark] .colab-df-convert {\n",
              "      background-color: #3B4455;\n",
              "      fill: #D2E3FC;\n",
              "    }\n",
              "\n",
              "    [theme=dark] .colab-df-convert:hover {\n",
              "      background-color: #434B5C;\n",
              "      box-shadow: 0px 1px 3px 1px rgba(0, 0, 0, 0.15);\n",
              "      filter: drop-shadow(0px 1px 2px rgba(0, 0, 0, 0.3));\n",
              "      fill: #FFFFFF;\n",
              "    }\n",
              "  </style>\n",
              "\n",
              "    <script>\n",
              "      const buttonEl =\n",
              "        document.querySelector('#df-0763f7d7-0dff-4ff1-bc77-a49fe06137ff button.colab-df-convert');\n",
              "      buttonEl.style.display =\n",
              "        google.colab.kernel.accessAllowed ? 'block' : 'none';\n",
              "\n",
              "      async function convertToInteractive(key) {\n",
              "        const element = document.querySelector('#df-0763f7d7-0dff-4ff1-bc77-a49fe06137ff');\n",
              "        const dataTable =\n",
              "          await google.colab.kernel.invokeFunction('convertToInteractive',\n",
              "                                                    [key], {});\n",
              "        if (!dataTable) return;\n",
              "\n",
              "        const docLinkHtml = 'Like what you see? Visit the ' +\n",
              "          '<a target=\"_blank\" href=https://colab.research.google.com/notebooks/data_table.ipynb>data table notebook</a>'\n",
              "          + ' to learn more about interactive tables.';\n",
              "        element.innerHTML = '';\n",
              "        dataTable['output_type'] = 'display_data';\n",
              "        await google.colab.output.renderOutput(dataTable, element);\n",
              "        const docLink = document.createElement('div');\n",
              "        docLink.innerHTML = docLinkHtml;\n",
              "        element.appendChild(docLink);\n",
              "      }\n",
              "    </script>\n",
              "  </div>\n",
              "\n",
              "\n",
              "<div id=\"df-a61515f9-e295-425e-b440-c9d87ec33078\">\n",
              "  <button class=\"colab-df-quickchart\" onclick=\"quickchart('df-a61515f9-e295-425e-b440-c9d87ec33078')\"\n",
              "            title=\"Suggest charts.\"\n",
              "            style=\"display:none;\">\n",
              "\n",
              "<svg xmlns=\"http://www.w3.org/2000/svg\" height=\"24px\"viewBox=\"0 0 24 24\"\n",
              "     width=\"24px\">\n",
              "    <g>\n",
              "        <path d=\"M19 3H5c-1.1 0-2 .9-2 2v14c0 1.1.9 2 2 2h14c1.1 0 2-.9 2-2V5c0-1.1-.9-2-2-2zM9 17H7v-7h2v7zm4 0h-2V7h2v10zm4 0h-2v-4h2v4z\"/>\n",
              "    </g>\n",
              "</svg>\n",
              "  </button>\n",
              "\n",
              "<style>\n",
              "  .colab-df-quickchart {\n",
              "      --bg-color: #E8F0FE;\n",
              "      --fill-color: #1967D2;\n",
              "      --hover-bg-color: #E2EBFA;\n",
              "      --hover-fill-color: #174EA6;\n",
              "      --disabled-fill-color: #AAA;\n",
              "      --disabled-bg-color: #DDD;\n",
              "  }\n",
              "\n",
              "  [theme=dark] .colab-df-quickchart {\n",
              "      --bg-color: #3B4455;\n",
              "      --fill-color: #D2E3FC;\n",
              "      --hover-bg-color: #434B5C;\n",
              "      --hover-fill-color: #FFFFFF;\n",
              "      --disabled-bg-color: #3B4455;\n",
              "      --disabled-fill-color: #666;\n",
              "  }\n",
              "\n",
              "  .colab-df-quickchart {\n",
              "    background-color: var(--bg-color);\n",
              "    border: none;\n",
              "    border-radius: 50%;\n",
              "    cursor: pointer;\n",
              "    display: none;\n",
              "    fill: var(--fill-color);\n",
              "    height: 32px;\n",
              "    padding: 0;\n",
              "    width: 32px;\n",
              "  }\n",
              "\n",
              "  .colab-df-quickchart:hover {\n",
              "    background-color: var(--hover-bg-color);\n",
              "    box-shadow: 0 1px 2px rgba(60, 64, 67, 0.3), 0 1px 3px 1px rgba(60, 64, 67, 0.15);\n",
              "    fill: var(--button-hover-fill-color);\n",
              "  }\n",
              "\n",
              "  .colab-df-quickchart-complete:disabled,\n",
              "  .colab-df-quickchart-complete:disabled:hover {\n",
              "    background-color: var(--disabled-bg-color);\n",
              "    fill: var(--disabled-fill-color);\n",
              "    box-shadow: none;\n",
              "  }\n",
              "\n",
              "  .colab-df-spinner {\n",
              "    border: 2px solid var(--fill-color);\n",
              "    border-color: transparent;\n",
              "    border-bottom-color: var(--fill-color);\n",
              "    animation:\n",
              "      spin 1s steps(1) infinite;\n",
              "  }\n",
              "\n",
              "  @keyframes spin {\n",
              "    0% {\n",
              "      border-color: transparent;\n",
              "      border-bottom-color: var(--fill-color);\n",
              "      border-left-color: var(--fill-color);\n",
              "    }\n",
              "    20% {\n",
              "      border-color: transparent;\n",
              "      border-left-color: var(--fill-color);\n",
              "      border-top-color: var(--fill-color);\n",
              "    }\n",
              "    30% {\n",
              "      border-color: transparent;\n",
              "      border-left-color: var(--fill-color);\n",
              "      border-top-color: var(--fill-color);\n",
              "      border-right-color: var(--fill-color);\n",
              "    }\n",
              "    40% {\n",
              "      border-color: transparent;\n",
              "      border-right-color: var(--fill-color);\n",
              "      border-top-color: var(--fill-color);\n",
              "    }\n",
              "    60% {\n",
              "      border-color: transparent;\n",
              "      border-right-color: var(--fill-color);\n",
              "    }\n",
              "    80% {\n",
              "      border-color: transparent;\n",
              "      border-right-color: var(--fill-color);\n",
              "      border-bottom-color: var(--fill-color);\n",
              "    }\n",
              "    90% {\n",
              "      border-color: transparent;\n",
              "      border-bottom-color: var(--fill-color);\n",
              "    }\n",
              "  }\n",
              "</style>\n",
              "\n",
              "  <script>\n",
              "    async function quickchart(key) {\n",
              "      const quickchartButtonEl =\n",
              "        document.querySelector('#' + key + ' button');\n",
              "      quickchartButtonEl.disabled = true;  // To prevent multiple clicks.\n",
              "      quickchartButtonEl.classList.add('colab-df-spinner');\n",
              "      try {\n",
              "        const charts = await google.colab.kernel.invokeFunction(\n",
              "            'suggestCharts', [key], {});\n",
              "      } catch (error) {\n",
              "        console.error('Error during call to suggestCharts:', error);\n",
              "      }\n",
              "      quickchartButtonEl.classList.remove('colab-df-spinner');\n",
              "      quickchartButtonEl.classList.add('colab-df-quickchart-complete');\n",
              "    }\n",
              "    (() => {\n",
              "      let quickchartButtonEl =\n",
              "        document.querySelector('#df-a61515f9-e295-425e-b440-c9d87ec33078 button');\n",
              "      quickchartButtonEl.style.display =\n",
              "        google.colab.kernel.accessAllowed ? 'block' : 'none';\n",
              "    })();\n",
              "  </script>\n",
              "</div>\n",
              "    </div>\n",
              "  </div>\n"
            ]
          },
          "metadata": {},
          "execution_count": 5
        }
      ]
    },
    {
      "cell_type": "code",
      "source": [
        "train_events.groupby('series_id').head(1)[\"event\"].unique()"
      ],
      "metadata": {
        "colab": {
          "base_uri": "https://localhost:8080/"
        },
        "id": "qmB3NWIeVB76",
        "outputId": "ec34276f-9384-47e8-b3b6-fc50ef474c82"
      },
      "execution_count": null,
      "outputs": [
        {
          "output_type": "execute_result",
          "data": {
            "text/plain": [
              "array(['onset'], dtype=object)"
            ]
          },
          "metadata": {},
          "execution_count": 6
        }
      ]
    },
    {
      "cell_type": "code",
      "source": [
        "train_events.groupby('series_id').tail(1)[\"event\"].unique()"
      ],
      "metadata": {
        "colab": {
          "base_uri": "https://localhost:8080/"
        },
        "id": "kBTEgypDVF6s",
        "outputId": "b371a4c9-e953-409a-ec2a-9cce258b2e40"
      },
      "execution_count": null,
      "outputs": [
        {
          "output_type": "execute_result",
          "data": {
            "text/plain": [
              "array(['wakeup'], dtype=object)"
            ]
          },
          "metadata": {},
          "execution_count": 7
        }
      ]
    },
    {
      "cell_type": "code",
      "source": [
        "t_NaN = train_events.groupby('series_id')['step'].apply(lambda x: x.isnull().any())\n",
        "t_NaN.value_counts()"
      ],
      "metadata": {
        "colab": {
          "base_uri": "https://localhost:8080/"
        },
        "id": "c9fCWoWLVM2e",
        "outputId": "08551193-b0ee-4868-a9eb-b53d8895472e"
      },
      "execution_count": null,
      "outputs": [
        {
          "output_type": "execute_result",
          "data": {
            "text/plain": [
              "True     240\n",
              "False     37\n",
              "Name: step, dtype: int64"
            ]
          },
          "metadata": {},
          "execution_count": 8
        }
      ]
    },
    {
      "cell_type": "code",
      "source": [
        "no_NaN_t = t_NaN[~t_NaN].index.tolist()\n",
        "no_NaN_t"
      ],
      "metadata": {
        "colab": {
          "base_uri": "https://localhost:8080/"
        },
        "id": "LHPasVMRVRvk",
        "outputId": "96067239-bdc2-426a-ca75-6320b69633f3"
      },
      "execution_count": null,
      "outputs": [
        {
          "output_type": "execute_result",
          "data": {
            "text/plain": [
              "['08db4255286f',\n",
              " '0a96f4993bd7',\n",
              " '0cfc06c129cc',\n",
              " '1087d7b0ff2e',\n",
              " '10f8bc1f7b07',\n",
              " '18b61dd5aae8',\n",
              " '29c75c018220',\n",
              " '31011ade7c0a',\n",
              " '3452b878e596',\n",
              " '349c5562ee2c',\n",
              " '3664fe9233f9',\n",
              " '483d6545417f',\n",
              " '55a47ff9dc8a',\n",
              " '5acc9d63b5fd',\n",
              " '5f94bb3e1bed',\n",
              " '655f19eabf1e',\n",
              " '67f5fc60e494',\n",
              " '72bbd1ac3edf',\n",
              " '76237b9406d5',\n",
              " '7822ee8fe3ec',\n",
              " '89bd631d1769',\n",
              " '8e32047cbc1f',\n",
              " '939932f1822d',\n",
              " '9ee455e4770d',\n",
              " 'a596ad0b82aa',\n",
              " 'a9a2f7fac455',\n",
              " 'a9e5f5314bcb',\n",
              " 'af91d9a50547',\n",
              " 'b364205aba43',\n",
              " 'c535634d7dcd',\n",
              " 'c6788e579967',\n",
              " 'c68260cc9e8f',\n",
              " 'ca730dbf521d',\n",
              " 'd150801f3145',\n",
              " 'd25e479ecbb7',\n",
              " 'd515236bdeec',\n",
              " 'd5e47b94477e']"
            ]
          },
          "metadata": {},
          "execution_count": 9
        }
      ]
    },
    {
      "cell_type": "markdown",
      "source": [],
      "metadata": {
        "id": "yjJM37KoVYMD"
      }
    },
    {
      "cell_type": "code",
      "source": [],
      "metadata": {
        "id": "zyWqblx4s2TQ"
      },
      "execution_count": null,
      "outputs": []
    }
  ]
}
